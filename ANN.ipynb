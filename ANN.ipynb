{
 "cells": [
  {
   "cell_type": "markdown",
   "metadata": {},
   "source": [
    "<p style=\"font-family:Times;font-size:250%; text-align:center\"> <font color='black'>Tugas 1 MA4072 Pembelajaran Mendalam</font></p>\n",
    "<p style=\"font-family:Times;font-size:100%; text-align:center\"> <font color='black'>JOHANNES FELIX RIMBUN 13217006</font></p>\n",
    "\n",
    "___\n",
    "\n"
   ]
  },
  {
   "cell_type": "markdown",
   "metadata": {},
   "source": [
    "#### Pemodelan Harga Saham General Motors\n",
    ">* Data diambil dari Yahoo Finance dan disimpan pada file GM.csv"
   ]
  },
  {
   "cell_type": "code",
   "execution_count": 1,
   "metadata": {},
   "outputs": [],
   "source": [
    "from numpy import *   \n",
    "import numpy as np\n",
    "from numpy.random import *\n",
    "import pandas as pd\n",
    "import pickle\n",
    "import matplotlib.pyplot as plt\n",
    "from datetime import datetime\n",
    "%matplotlib inline\n",
    "\n",
    "np.set_printoptions(precision = 3, suppress = True, formatter = {'float':'{:5.4f}'.format})\n",
    "\n",
    "#Sigmoid function & its derivative\n",
    "sigmoid = lambda Z: 1/(1+exp(-Z))\n",
    "dsigmoid = lambda A: A*(1-A)\n",
    "\n",
    "#ReLU function & its derivative\n",
    "ReLU  = lambda Z: Z.clip(0)\n",
    "#Derivative of ReLU function\n",
    "dReLU = lambda A: (A > 0)*1\n",
    "\n",
    "#Derivativer of tanh()\n",
    "dtanh = lambda A: 1-A**2\n",
    "\n",
    "#Derivative oh arctanh\n",
    "darctanh = lambda A: 1/(A**2+1)\n",
    "\n",
    "#Softplus function & its derivative\n",
    "splus = lambda Z: log(1+exp(Z))\n",
    "dsplus = lambda A: 1/(1+exp(-A))\n",
    "\n",
    "linear = lambda X,w,b: X@w+b\n",
    "\n",
    "\"Time step (ts)\"\n",
    "def steps(x, step):   \n",
    "    obs  = len(x)-step\n",
    "    xt   = x[:obs,:]\n",
    "    for i in arange(1,step+1):\n",
    "        xt = hstack((xt, x[i:obs+i,:]))   \n",
    "    return xt"
   ]
  },
  {
   "cell_type": "code",
   "execution_count": 2,
   "metadata": {},
   "outputs": [],
   "source": [
    "class NeuralNetwork:\n",
    "    \n",
    "    def __init__(self,x,y,hlayers,alpha): # ada h nodes di dalam hidden layer  hlayers = [7, 3, 34, 89]\n",
    "        self.X  = x #input\n",
    "        self.y  = y #output\n",
    "        self.hlayers = hlayers   #note: untuk model Perceptron gunakan hlayers = []\n",
    "        self.α  = alpha\n",
    "        \n",
    "        assert ndim(y)            == 2     #y harus berupa matriks (berdimensi 2)\n",
    "        assert type(self.hlayers) == list  #hlayers harus berupa sebuah list\n",
    "               \n",
    "        #self.N, ni = shape(x)   #jumlah features (variables)\n",
    "        #self.N, no = shape(y)   #jumlah observasi (self.N) dan jumlah output (no)\n",
    "        \n",
    "        ni=shape(x)[1] #jumlah features (variable) ni=1\n",
    "        self.N, no=shape(y) #no=1, N=680\n",
    "        #dicek dari sini\n",
    "        neurons = [ni] #untuk forward dan backward\n",
    "        neurons.extend(self.hlayers)\n",
    "        neurons.append(no)   #jumlah neurons per layer, termasuk input layer \n",
    "        self.nlayers  = len(neurons)-1  #number of layers (tidak termasuk input layer)\n",
    "        \n",
    "        \"Initial values untuk parameter w and b\"\n",
    "\n",
    "        seed(20201212)\n",
    "        self.w, self.b = [], []\n",
    "        for i in arange(self.nlayers):\n",
    "            self.w.append(randn(neurons[i], neurons[i+1]))  #Sinapsis dari layer ke i menuju layer ke (i+1)\n",
    "            self.b.append(randn(1, neurons[i+1]))           #Bias di layer ke (i+1)    \n",
    "\n",
    "    def training(self):\n",
    "        \n",
    "        nlayers = self.nlayers\n",
    "        \n",
    "        \"Forward propagation (perambatan maju)\"\n",
    "    \n",
    "        Z, A = [], [X]\n",
    "        \n",
    "        \"Dimulai dari Hidden layers\"\n",
    "        for j in arange(len(hlayers)):   #hanya hidden layers\n",
    "            Z.append(linear(A[j],self.w[j],self.b[j]))  #Reaksi kimia di layer ke (j + 1)\n",
    "            A.append(tanh(Z[j]))     #Aliran listrik di layer ke (j + 1) -----------------------------activation function hidden layer\n",
    "        \n",
    "        \"Output layer\"\n",
    "        Z.append(linear(A[nlayers-1],self.w[nlayers-1],self.b[nlayers-1]))  #Reaksi kimia di output layer\n",
    "        A.append(tanh(Z[nlayers-1])) #----------------------------------------------------------------activation function output\n",
    "        \n",
    "        self.predicted_y = A[self.nlayers]\n",
    "        e         = y-self.predicted_y\n",
    "\n",
    "        self.Cost = e.T@e/self.N  #mean squared error\n",
    "\n",
    "        \"Backward propagation (perambatan mundur)\"\n",
    "        \n",
    "        \"Dimulai dari output layer\"\n",
    "        dCdZ = [(-2*e/self.N)*dtanh(A[::-1][0])]  #berbentuk list agar bisa di-append, mulai dari output layer ----------------turunan di output\n",
    "        \n",
    "        \n",
    "        \"Hidden layer\"                                           \n",
    "        for m in arange(self.nlayers-1):  #dan mundur ke layer berikutnya, sampai hidden layer pertama\n",
    "            dCdZ.append((dCdZ[m]@self.w[::-1][m].T)*dtanh(A[::-1][m+1]))   #delta ---------------------------------------------turunan di hidden layer\n",
    "    \n",
    "        \n",
    "        \"Perubahan parameters (w dan b):\"\n",
    "    \n",
    "        one = ones([1,self.N])\n",
    "        \n",
    "        dCdw, dCdb = [], []   #dalam bentuk list agar bisa di-append\n",
    "        \n",
    "        \n",
    "        \n",
    "        for n in arange(self.nlayers): \n",
    "            \"Algoritma gradient descents\"\n",
    "            \n",
    "            dCdw.append(A[n].T@dCdZ[::-1][n])  #Dapatkan gradients untuk w dari dCdZ\n",
    "            self.w[n] -= self.α*dCdw[n]   #Parameter w di-update \n",
    "    \n",
    "            dCdb.append(one@dCdZ[::-1][n])     #Dapatkan gradients untuk b dari dCdZ\n",
    "            self.b[n] -= self.α*dCdb[n]   #Parameter b di-update\n",
    "        "
   ]
  },
  {
   "cell_type": "code",
   "execution_count": 3,
   "metadata": {},
   "outputs": [
    {
     "name": "stdout",
     "output_type": "stream",
     "text": [
      "Sampai epoch ke 2000 dicapai akurasi MSE sebesar 0.0009750 dengan waktu 0:00:00.437849\n",
      "Sampai epoch ke 4000 dicapai akurasi MSE sebesar 0.0002856 dengan waktu 0:00:00.810870\n",
      "Sampai epoch ke 6000 dicapai akurasi MSE sebesar 0.0002847 dengan waktu 0:00:01.303576\n",
      "Sampai epoch ke 8000 dicapai akurasi MSE sebesar 0.0002838 dengan waktu 0:00:01.783316\n",
      "Sampai epoch ke 10000 dicapai akurasi MSE sebesar 0.0002831 dengan waktu 0:00:02.231139\n",
      "\n",
      "Akurasi dengan data training: 0.0002831 \n",
      "\n"
     ]
    },
    {
     "data": {
      "image/png": "[encoded data removed]",
      "text/plain": [
       "<Figure size 432x288 with 1 Axes>"
      ]
     },
     "metadata": {
      "needs_background": "light"
     },
     "output_type": "display_data"
    },
    {
     "name": "stdout",
     "output_type": "stream",
     "text": [
      "Waktu yang diperlukan dari mulai training (10000 epochs):  0:00:02.463532\n"
     ]
    }
   ],
   "source": [
    "A  = pd.read_csv(\"GM.csv\") \n",
    "A6 = A['Close'].values   #Ambil kolom ke enam berisi 'Close', \n",
    "B  = A6[:,newaxis]  \n",
    "                                     \n",
    "Bmin = min(B)\n",
    "Bmax = max(B)\n",
    "b = (B-Bmin)/(Bmax-Bmin)\n",
    "\n",
    "ts = 1   #Di literatur Time Series digunakan istilah 'lag' sebagai padanan istilah 'timestep' ini\n",
    "xt = steps(b, ts)  #Dihasilkan matriks dengan 2 (= ts+1) kolom, kolom pertama menjadi variabel X\n",
    "                   #dan kolom terkhir menjadi variabel y\n",
    "\n",
    "x = xt[-1000:,:]    #Ambil 800 observasi terakhir\n",
    "\n",
    "#Data untuk training\n",
    "X = x[0:500, :-1]   #Ambil 680 observasi yang pertama dan hilangkan kolom terakhir\n",
    "y = x[0:500:, -1:]  #Ambil 680 observasi yang pertama dan ambil kolom terakhir sebagai variabel y \n",
    "\n",
    "#Data untuk testing\n",
    "Xtest = x[500:, :-1]   #ambil jumlah observasi sebanyak 120, hilangkan kolom terakhir (untuk y)\n",
    "ytest = x[500:, -1:]   #ambil kolom terakhir\n",
    "\n",
    "hlayers = [2,2]  #Dua hidden layers, masing-masing dengan 3 neurons dan 2 neurons\n",
    "alpha   = 0.05\n",
    "epochs  = 10000\n",
    "\n",
    "tic = datetime.now()\n",
    "\n",
    "ann2 = NeuralNetwork(X,y,hlayers,alpha)   #pembuatan object ann2\n",
    "\n",
    "for t in range(epochs): \n",
    "    ann2.training()\n",
    "    \n",
    "    if (t+1)%(epochs/5) == 0:   #tampilkan output lima kali\n",
    "        print(\"Sampai epoch ke\", t+1,\"dicapai akurasi MSE sebesar %8.7f\" %ann2.Cost,\"dengan waktu\", datetime.now()-tic)\n",
    "\n",
    "toc = datetime.now()\n",
    "print('\\nAkurasi dengan data training: %8.7f' %ann2.Cost,'\\n')\n",
    "\n",
    "plt.plot(y, label = 'actual series')\n",
    "plt.plot(ann2.predicted_y, label = 'predicted series')\n",
    "plt.legend()\n",
    "plt.show()\n",
    "\n",
    "toc = datetime.now()\n",
    "print(f'Waktu yang diperlukan dari mulai training ({epochs} epochs): ', toc-tic)\n"
   ]
  },
  {
   "cell_type": "markdown",
   "metadata": {},
   "source": [
    "#### Penyimpanan Model Deep Learning\n",
    ">disimpan pada GMModel.dat"
   ]
  },
  {
   "cell_type": "code",
   "execution_count": 4,
   "metadata": {},
   "outputs": [],
   "source": [
    "\"Proses penyimpanan model:\"\n",
    "\n",
    "#Parameters w dan b dijadikan satu list dalam params\n",
    "params = [ann2.w, ann2.b]\n",
    "\n",
    "#Simpan params di dalam IntelModel.dat di komputer\n",
    "pickle.dump(params, open(\"GMModel.dat\", \"wb\"))  #Penyimpanan model parameters, wb: write binary data\n",
    "\n",
    "#Diasumsikan sudah ada tambahan data baru Xtest maka langkah prediksi harga saham mirip seperti \n",
    "#yang dilakukan di atas. Tambahan data baru bisa pula berasal dari hasil prediksi sebelumnya \n",
    "#bila mau dilakukan prediksi yang iteratif.\n",
    "\n",
    "#Caranya, panggil lagi paramaters dari model Deep Learning:"
   ]
  },
  {
   "cell_type": "markdown",
   "metadata": {},
   "source": [
    "#### Pemanggilan dan penggunaan Model Deep Learning oleh pihak lain\n",
    ">Model Deep Learning akan dipanggil dan digunakan untuk forecasting"
   ]
  },
  {
   "cell_type": "code",
   "execution_count": 5,
   "metadata": {},
   "outputs": [
    {
     "name": "stdout",
     "output_type": "stream",
     "text": [
      "MSE training: 0.0002831 \n",
      "MSE testing : 0.0015197\n"
     ]
    },
    {
     "data": {
      "image/png": "[encoded data removed]",
      "text/plain": [
       "<Figure size 432x288 with 1 Axes>"
      ]
     },
     "metadata": {
      "needs_background": "light"
     },
     "output_type": "display_data"
    }
   ],
   "source": [
    "\"Proses pemanggilan model\"\n",
    "pars = pickle.load(open(\"GMModel.dat\", \"rb\"))  #rb: read binary data\n",
    "w = pars[0]\n",
    "b = pars[1]\n",
    "nlayers = len(w)\n",
    "\n",
    "\"Forward propagation (perambatan maju)\"\n",
    "Z = []\n",
    "A = [Xtest]\n",
    "nlayers = len(ann2.w)\n",
    "\n",
    "\"Hidden layers\"\n",
    "for j in arange(len(hlayers)):\n",
    "    Z.append(linear(A[j],ann2.w[j],ann2.b[j]))  #Reaksi kimia di layer ke (j + 1)\n",
    "    A.append(tanh(Z[j]))     #Aliran listrik di layer ke (j + 1)\n",
    "\n",
    "\"Output layer\"    \n",
    "Z.append(linear(A[nlayers-1],ann2.w[nlayers-1],ann2.b[nlayers-1]))  #Reaksi kimia di layer ke (j + 1)\n",
    "A.append(tanh(Z[nlayers-1]))\n",
    "\n",
    "ytesthat = A[nlayers]   #Ini prediksi harga saham atau yhat (output di layer ke 3)\n",
    "msetest  = (ytest-ytesthat).T@(ytest-ytesthat)/len(ytest)   #MSE semasa testing\n",
    "print('MSE training: %8.7f'%ann2.Cost,'\\nMSE testing : %7.7f'%msetest)\n",
    "\n",
    "\"Kembalikan datanya ke original unit dalam satuan dolar\"\n",
    "ytesto = ytest*(Bmax-Bmin)+Bmin       \n",
    "ytesthato = ytesthat*(Bmax-Bmin)+Bmin \n",
    "\n",
    "plt.plot(ytesto, label = 'actual series')\n",
    "plt.plot(ytesthato, label = 'predicted series')\n",
    "plt.legend()\n",
    "plt.show()"
   ]
  }
 ],
 "metadata": {
  "kernelspec": {
   "display_name": "Python 3",
   "language": "python",
   "name": "python3"
  },
  "language_info": {
   "codemirror_mode": {
    "name": "ipython",
    "version": 3
   },
   "file_extension": ".py",
   "mimetype": "text/x-python",
   "name": "python",
   "nbconvert_exporter": "python",
   "pygments_lexer": "ipython3",
   "version": "3.9.1"
  }
 },
 "nbformat": 4,
 "nbformat_minor": 4
}
